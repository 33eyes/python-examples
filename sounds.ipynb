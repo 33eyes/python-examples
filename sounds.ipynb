{
 "cells": [
  {
   "cell_type": "markdown",
   "id": "3a013ca6-7c2c-478e-8068-af7fa730a9f4",
   "metadata": {},
   "source": [
    "# Sounds"
   ]
  },
  {
   "cell_type": "markdown",
   "id": "49ecff1a-966d-4508-8006-a10cf9841bf1",
   "metadata": {},
   "source": [
    "## [Chime package](https://pypi.org/project/chime/)  \n",
    "> Python sound notifications made easy."
   ]
  },
  {
   "cell_type": "code",
   "execution_count": null,
   "id": "38b0bff1-13b7-4704-a18a-664509b761d0",
   "metadata": {},
   "outputs": [],
   "source": [
    "# !pip install chime"
   ]
  },
  {
   "cell_type": "code",
   "execution_count": null,
   "id": "a5c1caf8-79df-4c51-a860-30dae51b8de8",
   "metadata": {},
   "outputs": [],
   "source": [
    "import chime"
   ]
  },
  {
   "cell_type": "markdown",
   "id": "493cb916-00b7-41b7-9d2e-c91cfac8ffe4",
   "metadata": {},
   "source": [
    "#### Pick a theme ('chime' is default):"
   ]
  },
  {
   "cell_type": "code",
   "execution_count": null,
   "id": "ce8854ac-9233-41fa-8aee-908b8e037962",
   "metadata": {},
   "outputs": [],
   "source": [
    "chime.themes()"
   ]
  },
  {
   "cell_type": "markdown",
   "id": "ce2df55d-2c86-4ddc-847e-24f1d8883a84",
   "metadata": {},
   "source": [
    "#### Make some noise!"
   ]
  },
  {
   "cell_type": "code",
   "execution_count": null,
   "id": "4c88e3f8-7f08-4427-ab4d-0a811deea366",
   "metadata": {},
   "outputs": [],
   "source": [
    "import time # for waiting between noises"
   ]
  },
  {
   "cell_type": "code",
   "execution_count": null,
   "id": "6fa11f3a-3011-4e39-adb8-08f0eacef023",
   "metadata": {},
   "outputs": [],
   "source": [
    "wait_secs = 2"
   ]
  },
  {
   "cell_type": "code",
   "execution_count": null,
   "id": "6b93d8ff-b409-4ee3-badf-dd58f4d0a6b0",
   "metadata": {},
   "outputs": [],
   "source": [
    "# default 'chime' theme\n",
    "chime.success()\n",
    "time.sleep(wait_secs)\n",
    "\n",
    "chime.warning()\n",
    "time.sleep(wait_secs)\n",
    "\n",
    "chime.error()\n",
    "time.sleep(wait_secs)\n",
    "\n",
    "chime.info()"
   ]
  },
  {
   "cell_type": "code",
   "execution_count": null,
   "id": "c38f254e-86af-47ef-bd92-3e3312dc3640",
   "metadata": {},
   "outputs": [],
   "source": [
    "chime.theme('big-sur')\n",
    "\n",
    "chime.success()\n",
    "time.sleep(wait_secs)\n",
    "\n",
    "chime.warning()\n",
    "time.sleep(wait_secs)\n",
    "\n",
    "chime.error()\n",
    "time.sleep(wait_secs)\n",
    "\n",
    "chime.info()"
   ]
  },
  {
   "cell_type": "code",
   "execution_count": null,
   "id": "b0c1d842-43ee-4ab9-9d5b-86a8dd60ef10",
   "metadata": {},
   "outputs": [],
   "source": [
    "chime.theme('mario')\n",
    "\n",
    "chime.success()\n",
    "time.sleep(wait_secs)\n",
    "\n",
    "chime.warning()\n",
    "time.sleep(wait_secs)\n",
    "\n",
    "chime.error()\n",
    "time.sleep(wait_secs)\n",
    "\n",
    "chime.info()"
   ]
  },
  {
   "cell_type": "code",
   "execution_count": null,
   "id": "87cf3f89-1f39-42ef-8aa3-009d432efbba",
   "metadata": {},
   "outputs": [],
   "source": [
    "chime.theme('material')\n",
    "\n",
    "chime.success()\n",
    "time.sleep(wait_secs)\n",
    "\n",
    "chime.warning()\n",
    "time.sleep(wait_secs)\n",
    "\n",
    "chime.error()\n",
    "time.sleep(wait_secs)\n",
    "\n",
    "chime.info()"
   ]
  },
  {
   "cell_type": "code",
   "execution_count": null,
   "id": "7a18032d-67af-4c2b-bebb-228377ad0bf1",
   "metadata": {},
   "outputs": [],
   "source": [
    "chime.theme('zelda')\n",
    "\n",
    "chime.success()\n",
    "time.sleep(wait_secs)\n",
    "\n",
    "chime.warning()\n",
    "time.sleep(wait_secs)\n",
    "\n",
    "chime.error()\n",
    "time.sleep(wait_secs)\n",
    "\n",
    "chime.info()"
   ]
  },
  {
   "cell_type": "markdown",
   "id": "cf711477-664c-4736-ae06-c298f587c4fe",
   "metadata": {},
   "source": [
    "#### Can use as Jupyter magic"
   ]
  },
  {
   "cell_type": "markdown",
   "id": "20710621-f320-486c-8d5b-6c397ec4381c",
   "metadata": {},
   "source": [
    "Load the extension:"
   ]
  },
  {
   "cell_type": "code",
   "execution_count": null,
   "id": "34405180-3f92-40b0-b060-dfbd7677e9c1",
   "metadata": {},
   "outputs": [],
   "source": [
    "%load_ext chime"
   ]
  },
  {
   "cell_type": "markdown",
   "id": "a7de8136-4988-40e0-bc47-af07e39838bd",
   "metadata": {},
   "source": [
    "Wrap a line.."
   ]
  },
  {
   "cell_type": "code",
   "execution_count": null,
   "id": "e5db3184-9920-473e-b7af-753e0d6cdac5",
   "metadata": {},
   "outputs": [],
   "source": [
    "%chime print(\"stuff\")"
   ]
  },
  {
   "cell_type": "markdown",
   "id": "d42e3a7a-b8a0-4604-9995-6774c41d2af1",
   "metadata": {},
   "source": [
    "..or a cell.."
   ]
  },
  {
   "cell_type": "code",
   "execution_count": null,
   "id": "ca5fd744-27c4-4270-8cba-87817782dff5",
   "metadata": {},
   "outputs": [],
   "source": [
    "%%chime\n",
    "print(\"more stuff\")"
   ]
  },
  {
   "cell_type": "markdown",
   "id": "989df99e-3125-43a6-9ac1-b5f3eb864754",
   "metadata": {},
   "source": [
    "(chimes error/success sounds depending on line/cell execution)."
   ]
  },
  {
   "cell_type": "markdown",
   "id": "9c496a70-053b-4f01-8719-0942c6c52aff",
   "metadata": {},
   "source": [
    "#### Set to chime on exception notifications"
   ]
  },
  {
   "cell_type": "code",
   "execution_count": null,
   "id": "8dd6d4c1-b892-47b0-9352-0f4e95186403",
   "metadata": {},
   "outputs": [],
   "source": [
    "chime.notify_exceptions()"
   ]
  },
  {
   "cell_type": "code",
   "execution_count": null,
   "id": "13a94e78-0f5f-4b74-953b-4cfcd322dc00",
   "metadata": {},
   "outputs": [],
   "source": [
    "raise ValueError(\"Test chime\")"
   ]
  }
 ],
 "metadata": {
  "kernelspec": {
   "display_name": "Python 3",
   "language": "python",
   "name": "python3"
  },
  "language_info": {
   "codemirror_mode": {
    "name": "ipython",
    "version": 3
   },
   "file_extension": ".py",
   "mimetype": "text/x-python",
   "name": "python",
   "nbconvert_exporter": "python",
   "pygments_lexer": "ipython3",
   "version": "3.9.9"
  }
 },
 "nbformat": 4,
 "nbformat_minor": 5
}
